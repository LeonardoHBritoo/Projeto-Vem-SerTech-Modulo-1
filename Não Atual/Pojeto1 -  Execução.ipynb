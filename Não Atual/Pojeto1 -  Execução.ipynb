{
 "cells": [
  {
   "cell_type": "markdown",
   "metadata": {},
   "source": [
    "<p>\n",
    "Responsáveis pelo projeto: \n",
    "\n",
    "Leonardo Henrique de Brito Junior -  leojuniorlj123@gmail.com\n",
    "\n",
    "Iago  - iagoma@gmail.com\n",
    "\n",
    "Mirna - martinellimyrna@gmail.com\n",
    "\n",
    "Cesar - cesarabaraujo@gmail.com\n",
    "\n",
    "Ruan  - ruanfaria42@gmail.com\n",
    "</p>"
   ]
  },
  {
   "cell_type": "markdown",
   "metadata": {},
   "source": [
    "## Lista de Conhecimentos e Técnicas Adquiridas\n",
    "### 1) Variáveis, Entradas e Saídas\n",
    "- Tipos de variáveis: int (inteiros), float(decimal), string(textos), bool(verdadeiro ou falso).\n",
    "- Comentários : # ou ''' '''.\n",
    "- Saídas : print(), argumentos - end,sep.\n",
    "- Entradas : input().\n",
    "- Expressões aritméticas : Multiplicação(*), Divisão (/), Soma (+), Subtração (-), Divisão inteira (//), Resto (%), Potência (**).\n",
    "### 2) Operações Lógicas\n",
    "- Operadores de comparação: <, >, <=, >=, ==, !=.\n",
    "- Negação (Not), Conjunção (and), Disjunção (or).\n",
    "- Valores Truthy e Falsy.\n",
    "### 3) Expressões Condicionais\n",
    "- if.\n",
    "- else.\n",
    "- elif.\n",
    "- condicionais aninhadas.\n",
    "### 4) Malhas de Repetição Condicional (While)\n",
    "- Estrutura.\n",
    "- Condição de parada.\n",
    "- Sequencias numéricas (contador).\n",
    "- Comandos de manipulação de fluxo: break, continue, else.\n",
    "- Validação com while.\n",
    "### 5) Malhas de Repetição com Contador(for)\n",
    "- range().\n",
    "- Desvio de fluxo : break, continue, else.\n",
    "### 6) Listas \n",
    "- Princípios básicos.\n",
    "- Slices.\n",
    "- Percorrendo listas.\n",
    "- Testando existência de valores ( in).\n",
    "### 7) Funções e métodos de lista\n",
    "- append,\n",
    "- insert,\n",
    "- remove,\n",
    "- pop,\n",
    "- sort,\n",
    "- sorted,\n",
    "- reverse,\n",
    "- index,\n",
    "- max, min, len, etc.\n",
    "### 8) Funções\n",
    "- Sintaxe.\n",
    "- Escopo.\n",
    "- Parâmetro.\n",
    "- Retorno\n",
    "- Recursividade\n",
    "- Documentação: Type Hints e Docstrings.\n",
    "### 9) Funções, Métodos e Operações de string's\n",
    "- Acessar elemento\n",
    "- Operações aritméticas\n",
    "- Operações lógicas\n",
    "- Concatenação e iteração\n",
    "- Conversão em lista\n",
    "- Símbolos especiais: \\n, \\t, \\\\, \\\"\n",
    "- .upper(), .lower(), .split(), .replace(), .join()\n",
    "- Formatação de strings: format e fstring\n",
    "### 10) Boas práticas e dicas do professor\n",
    "\n"
   ]
  },
  {
   "cell_type": "markdown",
   "metadata": {},
   "source": [
    "#\n",
    "#\n",
    "# Criando cadastro dos restaurantes e cardápio\n"
   ]
  },
  {
   "cell_type": "code",
   "execution_count": 100,
   "metadata": {},
   "outputs": [],
   "source": [
    "# inicialização de listas e variáveis\n",
    "lista_de_restaurantes =[]\n",
    "lista_prato_atual = []\n",
    "lista_pratos_do_restaurante = []\n",
    "lista_cardapios = []\n",
    "restaurante_atual = 'valor inicial'\n",
    "\n",
    "# Malha de repetição para cadastro de restaurantes\n",
    "while restaurante_atual: # Se o valor da variável for nulo o loop para\n",
    "    \n",
    "    # Mudando valor da variável de controle\n",
    "    restaurante_atual = input('Digite o nome do restaurante [Vazio Termina Cadastro]') \n",
    "\n",
    "    # Verificando se o restaurante não é um valor vazio antes de continuar para o cadastro de cardápio\n",
    "    if restaurante_atual: # Só entra se não for nulo\n",
    "        lista_de_restaurantes.append(restaurante_atual)\n",
    "\n",
    "        # Inicializando variável de controle \n",
    "        item_cardapio = input('Digite o nome do prato[Vazio Termina Cadastro]')\n",
    "\n",
    "        # Verificando se o restaurante será cadastrado sem cardápio\n",
    "        if item_cardapio == '':\n",
    "            lista_pratos_do_restaurante = ['Cardápio Vazio', '-', '-']\n",
    "        \n",
    "        # Malha de repetição para cadastro de cardápio\n",
    "        while item_cardapio: # Se o valor da variável for nulo o loop para\n",
    "            valor_item = float(input(f'Digite o preço para {item_cardapio}'))\n",
    "            tempo_preparo_item = float(input(f'Digite o tempo de preparo para {item_cardapio} em minutos'))\n",
    "            \n",
    "            # Acrescentando as informações do item a uma lista\n",
    "            lista_prato_atual.append(item_cardapio)\n",
    "            lista_prato_atual.append(valor_item)\n",
    "            lista_prato_atual.append(tempo_preparo_item)\n",
    "\n",
    "            # Adicionando lista com informações do prato atual a uma lista com todos os pratos do restaurante\n",
    "            lista_pratos_do_restaurante. append(lista_prato_atual)\n",
    "\n",
    "            # Reset da lista para a próxima iteração\n",
    "            lista_prato_atual = []\n",
    "\n",
    "            # Alteração da variável de controle\n",
    "            item_cardapio = input('Digite o nome do prato [Vazio Termina Cadastro]')\n",
    "\n",
    "\n",
    "        # Adicionando o cardápio do restaurante a lista de cardápios, contendo o cardápio de todos os restaurantes\n",
    "        lista_cardapios.append(lista_pratos_do_restaurante)\n",
    "\n",
    "        # Reset da lista para próxima iteração\n",
    "        lista_pratos_do_restaurante = [] \n",
    "\n"
   ]
  },
  {
   "cell_type": "code",
   "execution_count": 101,
   "metadata": {},
   "outputs": [
    {
     "name": "stdout",
     "output_type": "stream",
     "text": [
      "Baripalesi [['Parmegiana', 80.0, 50.0], ['Cupim', 60.0, 30.0]]\n",
      "Pinga Fogo [['Churrasco de maminha', 70.0, 28.0], ['Filé mignon ', 150.0, 35.0]]\n"
     ]
    }
   ],
   "source": [
    "#Bloco temporário - somente para testes\n",
    "# Testando se está pegando todos os cardápios. Perceba que o restaurante e seu cardápio possuem mesmo índice nas respectivas listas\n",
    "for i in range(len(lista_de_restaurantes)):\n",
    "    print(lista_de_restaurantes[i], lista_cardapios[i])"
   ]
  },
  {
   "cell_type": "markdown",
   "metadata": {},
   "source": [
    "# Localizando o restaurante para realizar o pedido\n"
   ]
  },
  {
   "cell_type": "code",
   "execution_count": 103,
   "metadata": {},
   "outputs": [
    {
     "name": "stdout",
     "output_type": "stream",
     "text": [
      "Restaurantes correspondentes: \n",
      "id: 0 | Restaurante Baripalesi\n"
     ]
    }
   ],
   "source": [
    "# Inicializando Variáveis\n",
    "tipo_busca = None\n",
    "flag = 0\n",
    "# Validação de entrada do usuário\n",
    "while tipo_busca not in ['nome','id']:\n",
    "    tipo_busca = input('Como deseja localizar o Restaurante?[nome/id]').lower()\n",
    "\n",
    "# Busca por nome do restaurante\n",
    "if tipo_busca == 'nome':\n",
    "    restaurante_buscado = input('Digite o nome do restaurante que deseja encontrar').lower()\n",
    "\n",
    "    print(f'Restaurantes correspondentes: ')\n",
    "\n",
    "    # Iterando a lista para verificar e retornar restaurantes com nome correspondente\n",
    "    for i in range(len(lista_de_restaurantes)):\n",
    "        if restaurante_buscado == lista_de_restaurantes[i].lower():\n",
    "            print(f'id: {i} | Restaurante {lista_de_restaurantes[i]}')\n",
    "            flag += 1\n",
    "    if flag >= 1:\n",
    "        id = int(input('Digite o id do restaurante para continuar'))\n",
    "    else:\n",
    "        print('Nenhum restaurante encontrado')\n",
    "\n",
    "# Busca por id do restaurante\n",
    "else:\n",
    "    id = int(input('Digite o id do restaurante para continuar'))\n"
   ]
  },
  {
   "cell_type": "markdown",
   "metadata": {},
   "source": [
    "# Mostrando Cardápio do restaurante"
   ]
  },
  {
   "cell_type": "code",
   "execution_count": 104,
   "metadata": {},
   "outputs": [
    {
     "name": "stdout",
     "output_type": "stream",
     "text": [
      "            Cardápio do Restaurante Baripalesi\n",
      "\n",
      "|     Prato       |      Preço       | Tempor de Preparo  |\n",
      "----------------------------------------------------------\n",
      "|   Parmegiana    |       80.0       |        50.0        |\n",
      "----------------------------------------------------------\n",
      "|     Cupim       |       60.0       |        30.0        |\n",
      "----------------------------------------------------------\n"
     ]
    }
   ],
   "source": [
    "# Mostrando cardápio do Restaurante escolhido\n",
    "#Cabeçalho\n",
    "print(f'            Cardápio do Restaurante {lista_de_restaurantes[id]}\\n')\n",
    "print('|     Prato       |      Preço       | Tempor de Preparo  |') \n",
    "print('-'*58)\n",
    "#iterando cardápio e imprimindo\n",
    "for prato in lista_cardapios[id]:\n",
    "    print(f'|{prato[0]:^16} | {prato[1]:^16} | {prato[2]:^18} |')\n",
    "    print('-'*58)\n",
    "\n"
   ]
  },
  {
   "cell_type": "code",
   "execution_count": 108,
   "metadata": {},
   "outputs": [
    {
     "data": {
      "text/plain": [
       "[['Parmegiana', 80.0, 50.0], ['Cupim', 60.0, 30.0]]"
      ]
     },
     "execution_count": 108,
     "metadata": {},
     "output_type": "execute_result"
    }
   ],
   "source": [
    "lista_cardapios[id]\n"
   ]
  },
  {
   "cell_type": "markdown",
   "metadata": {},
   "source": [
    "# Escolhendo pedido\n"
   ]
  },
  {
   "cell_type": "code",
   "execution_count": 120,
   "metadata": {},
   "outputs": [
    {
     "name": "stdout",
     "output_type": "stream",
     "text": [
      "                    Resumo do Pedido\n",
      "Restaurante: Baripalesi\n",
      "\n",
      "---------------------------------------------------------------------------\n",
      "Nº |     Prato       |      Preço       | Tempor de Preparo  | Quantidade | \n",
      "---------------------------------------------------------------------------\n",
      "01 |     Cupim       |       60.0       |        30.0        |     2      |\n",
      "---------------------------------------------------------------------------\n",
      "|Total : R$  120.0      | Tempo de espera estimado do pedido : 30.0  min  |\n",
      "---------------------------------------------------------------------------\n"
     ]
    }
   ],
   "source": [
    "# Recebendo  primeiro prato do pedido\n",
    "pedido = input('Digite o prato que deseja [Vazio termina pedido] ')\n",
    "\n",
    "# declarando listas\n",
    "lista_pedido = []\n",
    "valores_pedido = []\n",
    "quantidades = []\n",
    "valor_total_quantidade = []\n",
    "tempo_espera_pedidos = []\n",
    "\n",
    "# Criando loop para que o pedido possa ter quantos itens o cliente quiser \n",
    "while pedido:\n",
    "    for prato in lista_cardapios[id]: # Podemos alterar esse trecho para incrementar um else quando o usuario digitar prato inexistente, \n",
    "        if prato[0].lower() == pedido.lower(): # mas for precisa ser mudado para usar índice, o que altera toda a lógica\n",
    "            lista_pedido.append(prato)\n",
    "            valores_pedido.append(prato[1])\n",
    "            tempo_espera_pedidos.append(prato[2])\n",
    "            quantidades.append(int(input(f'Digite a quantidade de {prato[0]}')))\n",
    "\n",
    "    # Alterando variável de controle\n",
    "    pedido = input('Digite o próximo prato[Vazio termina pedido] ')\n",
    "\n",
    "\n",
    "# imprimindo pedido\n",
    "print(f'                    Resumo do Pedido')  \n",
    "print(f'Restaurante: {lista_de_restaurantes[id]}\\n')\n",
    "print('-'*75)\n",
    "print('Nº |     Prato       |      Preço       | Tempor de Preparo  | Quantidade | ') \n",
    "print('-'*75)\n",
    "for item in lista_pedido:\n",
    "    print(f'{(1 + lista_pedido.index(item)):02d} |{item[0]:^16} | {item[1]:^16} | {item[2]:^18} | {quantidades[lista_pedido.index(item)]:^10} |')\n",
    "    print('-'*75)\n",
    "\n",
    "# calculando o valor total de cada item multiplicando as quantidades pelo valor\n",
    "for i in range( len( valores_pedido)):\n",
    "    valor_total_quantidade.append(valores_pedido[i]*quantidades[i])\n",
    "\n",
    "# Imprimindo total\n",
    "print(f'|Total : R$ {sum(valor_total_quantidade):^7}     | Tempo de espera estimado do pedido : {max(tempo_espera_pedidos):^5} min  |')\n",
    "print('-'*75)\n",
    "\n"
   ]
  },
  {
   "cell_type": "markdown",
   "metadata": {},
   "source": [
    "# Confirmação do pedido"
   ]
  },
  {
   "cell_type": "code",
   "execution_count": 124,
   "metadata": {},
   "outputs": [
    {
     "name": "stdout",
     "output_type": "stream",
     "text": [
      "Haa, que pena! Estamos aqui caso mude de ideia.\n"
     ]
    }
   ],
   "source": [
    "# Quando o código for transferido para o paradígma funcional podemos acrescentar a opção de realizar novo pedido\n",
    "# Também é possível acrescentar opção de desistir do pedido antes de concluir e voltar às opções para a seleção de restaurante\n",
    "confimacao_pedido = input('Deseja confirmar seu pedido[s/n]').lower()\n",
    "while confimacao_pedido not in ['s','n']:\n",
    "    print('A resposta não foi encontrada entre as opções disponíveis')\n",
    "    confimacao_pedido = input('Deseja confirmar seu pedido[s/n]').lower()\n",
    "if confimacao_pedido == 's':\n",
    "    print('Pedido confirmado')\n",
    "else:\n",
    "    print('Haa, que pena! Estamos aqui caso mude de ideia.')"
   ]
  }
 ],
 "metadata": {
  "kernelspec": {
   "display_name": "Python 3",
   "language": "python",
   "name": "python3"
  },
  "language_info": {
   "codemirror_mode": {
    "name": "ipython",
    "version": 3
   },
   "file_extension": ".py",
   "mimetype": "text/x-python",
   "name": "python",
   "nbconvert_exporter": "python",
   "pygments_lexer": "ipython3",
   "version": "3.11.6"
  }
 },
 "nbformat": 4,
 "nbformat_minor": 2
}
